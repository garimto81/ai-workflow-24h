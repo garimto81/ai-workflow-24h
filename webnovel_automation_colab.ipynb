{
  "cells": [
    {
      "cell_type": "markdown",
      "metadata": {},
      "source": [
        "# 🚀 웹소설 24시간 자동화 시스템 (Google Colab)\n",
        "\n",
        "이 노트북은 Google Colab에서 무료로 실행됩니다."
      ]
    },
    {
      "cell_type": "code",
      "execution_count": null,
      "metadata": {},
      "outputs": [],
      "source": [
        "# 1. GitHub 저장소 클론\n",
        "!git clone https://github.com/garimto81/ai-workflow-24h.git\n",
        "%cd ai-workflow-24h"
      ]
    },
    {
      "cell_type": "code",
      "execution_count": null,
      "metadata": {},
      "outputs": [],
      "source": [
        "# 2. 필요한 패키지 설치\n",
        "!pip install anthropic aiofiles pyyaml python-dotenv"
      ]
    },
    {
      "cell_type": "code",
      "execution_count": null,
      "metadata": {},
      "outputs": [],
      "source": [
        "# 3. API 키 설정 (여기에 본인의 API 키 입력)\n",
        "import os\n",
        "from getpass import getpass\n",
        "\n",
        "# 안전하게 API 키 입력받기\n",
        "api_key = getpass('Enter your Anthropic API Key: ')\n",
        "os.environ['ANTHROPIC_API_KEY'] = api_key"
      ]
    },
    {
      "cell_type": "code",
      "execution_count": null,
      "metadata": {},
      "outputs": [],
      "source": [
        "# 4. Classic Isekai 프로젝트 파일 다운로드 (필요시)\n",
        "# 실제 프로젝트 파일이 있다면 여기서 설정\n",
        "!mkdir -p classic-isekai\n",
        "# !wget [프로젝트 파일 URL] -O classic-isekai/..."
      ]
    },
    {
      "cell_type": "code",
      "execution_count": null,
      "metadata": {},
      "outputs": [],
      "source": [
        "# 5. 11개 에이전트 시스템 실행\n",
        "%cd src/workflow\n",
        "\n",
        "# 설정 변경\n",
        "episodes = \"1,2,3\"  # 개선할 에피소드\n",
        "target_score = \"9.0\"  # 목표 점수\n",
        "\n",
        "# 시스템 실행\n",
        "!python new_agent_system.py {episodes} {target_score}"
      ]
    },
    {
      "cell_type": "code",
      "execution_count": null,
      "metadata": {},
      "outputs": [],
      "source": [
        "# 6. 결과 확인\n",
        "!ls -la logs/\n",
        "!tail -n 50 logs/new_agent_system.log"
      ]
    },
    {
      "cell_type": "code",
      "execution_count": null,
      "metadata": {},
      "outputs": [],
      "source": [
        "# 7. 개선된 에피소드 다운로드\n",
        "from google.colab import files\n",
        "import zipfile\n",
        "import os\n",
        "\n",
        "# 결과 파일 압축\n",
        "with zipfile.ZipFile('improved_episodes.zip', 'w') as zipf:\n",
        "    for root, dirs, files in os.walk('../../classic-isekai/webnovel_episodes'):\n",
        "        for file in files:\n",
        "            if file.endswith('.md'):\n",
        "                zipf.write(os.path.join(root, file))\n",
        "\n",
        "# 다운로드\n",
        "files.download('improved_episodes.zip')"
      ]
    }
  ],
  "metadata": {
    "colab": {
      "provenance": []
    },
    "kernelspec": {
      "display_name": "Python 3",
      "name": "python3"
    },
    "language_info": {
      "name": "python"
    }
  },
  "nbformat": 4,
  "nbformat_minor": 0
}